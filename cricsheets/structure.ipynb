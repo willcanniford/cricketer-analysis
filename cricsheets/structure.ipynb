{
 "metadata": {
  "language_info": {
   "codemirror_mode": {
    "name": "ipython",
    "version": 3
   },
   "file_extension": ".py",
   "mimetype": "text/x-python",
   "name": "python",
   "nbconvert_exporter": "python",
   "pygments_lexer": "ipython3",
   "version": "3.7.5"
  },
  "orig_nbformat": 2,
  "kernelspec": {
   "name": "python3",
   "display_name": "Python 3.7.5 64-bit ('environment': conda)",
   "metadata": {
    "interpreter": {
     "hash": "a3451ed2f4a46b35abe83ffbdc3edb134eda394b77b6a64e9f8b5290f5ef3073"
    }
   }
  }
 },
 "nbformat": 4,
 "nbformat_minor": 2,
 "cells": [
  {
   "cell_type": "code",
   "execution_count": 6,
   "metadata": {},
   "outputs": [],
   "source": [
    "import pandas as pd \n",
    "from loading import innings_lookup\n",
    "import yaml"
   ]
  },
  {
   "cell_type": "code",
   "execution_count": 7,
   "metadata": {},
   "outputs": [],
   "source": [
    "innings_lookup = {\n",
    "    '1st innings': 'first_innings',\n",
    "    '2nd innings': 'second_innings',\n",
    "    '3rd innings': 'third_innings',\n",
    "    '4th innings': 'fourth_innings'\n",
    "}\n",
    "\n",
    "\n",
    "def load_yaml_file(filepath):\n",
    "    with open(filepath, 'r') as stream:\n",
    "        try:\n",
    "            raw_data = yaml.safe_load(stream)\n",
    "            meta = raw_data['meta']\n",
    "            info = raw_data['info']\n",
    "            innings = raw_data['innings']\n",
    "            innings_processed = {}\n",
    "            innings_processed['n_innings'] = len(innings)\n",
    "            print(f'Match Information: {info}')\n",
    "\n",
    "            for inning in innings: \n",
    "                original_key = list(inning.keys())[0]\n",
    "                key = innings_lookup[original_key]\n",
    "                innings_processed[key] = inning[original_key]['team']\n",
    "            \n",
    "            return inning[original_key]['deliveries']\n",
    "\n",
    "        except yaml.YAMLError as exc:\n",
    "            print(exc)"
   ]
  },
  {
   "cell_type": "code",
   "execution_count": 8,
   "metadata": {},
   "outputs": [
    {
     "output_type": "stream",
     "name": "stdout",
     "text": [
      "Match Information: {'city': 'Galle', 'dates': ['2004-03-08', '2004-03-09', '2004-03-10', '2004-03-11', '2004-03-12'], 'gender': 'male', 'match_type': 'Test', 'match_type_number': 1685, 'outcome': {'winner': 'Australia', 'by': {'runs': 197}}, 'player_of_match': ['ML Hayden'], 'teams': ['Australia', 'Sri Lanka'], 'toss': {'decision': 'bat', 'winner': 'Australia'}, 'umpires': ['DR Shepherd', 'RE Koertzen'], 'venue': 'Galle International Stadium'}\n"
     ]
    }
   ],
   "source": [
    "filepath = \"files/64071.yaml\"\n",
    "deliveries = load_yaml_file(filepath)"
   ]
  },
  {
   "cell_type": "code",
   "execution_count": 9,
   "metadata": {},
   "outputs": [
    {
     "output_type": "execute_result",
     "data": {
      "text/plain": [
       "{'non_striker': 'KC Sangakkara',\n",
       " 'bowler': 'SK Warne',\n",
       " 'runs': {'extras': 0, 'total': 0, 'batsman': 0},\n",
       " 'batsman': 'MS Atapattu'}"
      ]
     },
     "metadata": {},
     "execution_count": 9
    }
   ],
   "source": [
    "deliveries[0][list(deliveries[0])[0]]"
   ]
  },
  {
   "cell_type": "code",
   "execution_count": 10,
   "metadata": {},
   "outputs": [
    {
     "output_type": "execute_result",
     "data": {
      "text/plain": [
       "   delivery       non_striker         bowler           batsman  \\\n",
       "0       5.4       MS Atapattu  MS Kasprowicz     KC Sangakkara   \n",
       "1      18.3  DPMD Jayawardene       SK Warne       MS Atapattu   \n",
       "2      20.1  DPMD Jayawardene       SK Warne        TM Dilshan   \n",
       "3      22.5     ST Jayasuriya       SK Warne  DPMD Jayawardene   \n",
       "4      23.1   HP Tillakaratne    SCG MacGill     ST Jayasuriya   \n",
       "5      33.5   HP Tillakaratne    SCG MacGill    TT Samaraweera   \n",
       "6      38.2      UDU Chandana       SK Warne   HP Tillakaratne   \n",
       "7      43.6        WPUJC Vaas    SCG MacGill      UDU Chandana   \n",
       "8      44.6        WPUJC Vaas       SK Warne   HDPK Dharmasena   \n",
       "9      45.2        WPUJC Vaas    SCG MacGill    M Muralitharan   \n",
       "\n",
       "         player_out     kind        fielders  \n",
       "0     KC Sangakkara      lbw             NaN  \n",
       "1       MS Atapattu   caught     [ML Hayden]  \n",
       "2        TM Dilshan      lbw             NaN  \n",
       "3  DPMD Jayawardene   caught     [ML Hayden]  \n",
       "4     ST Jayasuriya   caught     [ML Hayden]  \n",
       "5    TT Samaraweera   bowled             NaN  \n",
       "6   HP Tillakaratne   caught     [A Symonds]  \n",
       "7      UDU Chandana   caught     [JL Langer]  \n",
       "8   HDPK Dharmasena   caught     [ML Hayden]  \n",
       "9    M Muralitharan  stumped  [AC Gilchrist]  "
      ],
      "text/html": "<div>\n<style scoped>\n    .dataframe tbody tr th:only-of-type {\n        vertical-align: middle;\n    }\n\n    .dataframe tbody tr th {\n        vertical-align: top;\n    }\n\n    .dataframe thead th {\n        text-align: right;\n    }\n</style>\n<table border=\"1\" class=\"dataframe\">\n  <thead>\n    <tr style=\"text-align: right;\">\n      <th></th>\n      <th>delivery</th>\n      <th>non_striker</th>\n      <th>bowler</th>\n      <th>batsman</th>\n      <th>player_out</th>\n      <th>kind</th>\n      <th>fielders</th>\n    </tr>\n  </thead>\n  <tbody>\n    <tr>\n      <th>0</th>\n      <td>5.4</td>\n      <td>MS Atapattu</td>\n      <td>MS Kasprowicz</td>\n      <td>KC Sangakkara</td>\n      <td>KC Sangakkara</td>\n      <td>lbw</td>\n      <td>NaN</td>\n    </tr>\n    <tr>\n      <th>1</th>\n      <td>18.3</td>\n      <td>DPMD Jayawardene</td>\n      <td>SK Warne</td>\n      <td>MS Atapattu</td>\n      <td>MS Atapattu</td>\n      <td>caught</td>\n      <td>[ML Hayden]</td>\n    </tr>\n    <tr>\n      <th>2</th>\n      <td>20.1</td>\n      <td>DPMD Jayawardene</td>\n      <td>SK Warne</td>\n      <td>TM Dilshan</td>\n      <td>TM Dilshan</td>\n      <td>lbw</td>\n      <td>NaN</td>\n    </tr>\n    <tr>\n      <th>3</th>\n      <td>22.5</td>\n      <td>ST Jayasuriya</td>\n      <td>SK Warne</td>\n      <td>DPMD Jayawardene</td>\n      <td>DPMD Jayawardene</td>\n      <td>caught</td>\n      <td>[ML Hayden]</td>\n    </tr>\n    <tr>\n      <th>4</th>\n      <td>23.1</td>\n      <td>HP Tillakaratne</td>\n      <td>SCG MacGill</td>\n      <td>ST Jayasuriya</td>\n      <td>ST Jayasuriya</td>\n      <td>caught</td>\n      <td>[ML Hayden]</td>\n    </tr>\n    <tr>\n      <th>5</th>\n      <td>33.5</td>\n      <td>HP Tillakaratne</td>\n      <td>SCG MacGill</td>\n      <td>TT Samaraweera</td>\n      <td>TT Samaraweera</td>\n      <td>bowled</td>\n      <td>NaN</td>\n    </tr>\n    <tr>\n      <th>6</th>\n      <td>38.2</td>\n      <td>UDU Chandana</td>\n      <td>SK Warne</td>\n      <td>HP Tillakaratne</td>\n      <td>HP Tillakaratne</td>\n      <td>caught</td>\n      <td>[A Symonds]</td>\n    </tr>\n    <tr>\n      <th>7</th>\n      <td>43.6</td>\n      <td>WPUJC Vaas</td>\n      <td>SCG MacGill</td>\n      <td>UDU Chandana</td>\n      <td>UDU Chandana</td>\n      <td>caught</td>\n      <td>[JL Langer]</td>\n    </tr>\n    <tr>\n      <th>8</th>\n      <td>44.6</td>\n      <td>WPUJC Vaas</td>\n      <td>SK Warne</td>\n      <td>HDPK Dharmasena</td>\n      <td>HDPK Dharmasena</td>\n      <td>caught</td>\n      <td>[ML Hayden]</td>\n    </tr>\n    <tr>\n      <th>9</th>\n      <td>45.2</td>\n      <td>WPUJC Vaas</td>\n      <td>SCG MacGill</td>\n      <td>M Muralitharan</td>\n      <td>M Muralitharan</td>\n      <td>stumped</td>\n      <td>[AC Gilchrist]</td>\n    </tr>\n  </tbody>\n</table>\n</div>"
     },
     "metadata": {},
     "execution_count": 10
    }
   ],
   "source": [
    "def merge_two_dicts(x, y):\n",
    "    \"\"\"Given two dictionaries, merge them into a new dict as a shallow copy.\"\"\"\n",
    "    z = x.copy()\n",
    "    z.update(y)\n",
    "    return z\n",
    "\n",
    "# Print the wickets for this innings\n",
    "wickets = [merge_two_dicts({'delivery': list(i)[0]}, i[list(i)[0]]) for i in deliveries if 'wicket' in list(i[list(i)[0]])]\n",
    "df = pd.DataFrame(wickets)\n",
    "df = pd.concat([df, df['wicket'].apply(pd.Series)], axis=1)\n",
    "df.drop(['runs', 'wicket'], axis=1, inplace=True)\n",
    "df\n"
   ]
  },
  {
   "cell_type": "code",
   "execution_count": 11,
   "metadata": {},
   "outputs": [
    {
     "output_type": "execute_result",
     "data": {
      "text/plain": [
       "[8.6, 26.3, 28.2]"
      ]
     },
     "metadata": {},
     "execution_count": 11
    }
   ],
   "source": [
    "extras_balls = [list(i)[0] for i in deliveries if 'extras' in list(i[list(i)[0]])]\n",
    "extras_balls"
   ]
  },
  {
   "cell_type": "code",
   "execution_count": 12,
   "metadata": {},
   "outputs": [
    {
     "output_type": "execute_result",
     "data": {
      "text/plain": [
       "[{8.6: {'non_striker': 'MS Atapattu',\n",
       "   'bowler': 'JN Gillespie',\n",
       "   'runs': {'extras': 1, 'total': 1, 'batsman': 0},\n",
       "   'extras': {'wides': 1},\n",
       "   'batsman': 'DPMD Jayawardene'}},\n",
       " {26.3: {'non_striker': 'TT Samaraweera',\n",
       "   'bowler': 'SK Warne',\n",
       "   'runs': {'extras': 4, 'total': 4, 'batsman': 0},\n",
       "   'extras': {'byes': 4},\n",
       "   'batsman': 'HP Tillakaratne'}},\n",
       " {28.2: {'non_striker': 'HP Tillakaratne',\n",
       "   'bowler': 'SK Warne',\n",
       "   'runs': {'extras': 1, 'total': 1, 'batsman': 0},\n",
       "   'extras': {'noballs': 1},\n",
       "   'batsman': 'TT Samaraweera'}}]"
      ]
     },
     "metadata": {},
     "execution_count": 12
    }
   ],
   "source": [
    "# Extras\n",
    "[i for i in deliveries if 'extras' in list(i[list(i)[0]])]"
   ]
  },
  {
   "cell_type": "code",
   "execution_count": 13,
   "metadata": {},
   "outputs": [
    {
     "output_type": "execute_result",
     "data": {
      "text/plain": [
       "[{8.6: {'non_striker': 'MS Atapattu',\n",
       "   'bowler': 'JN Gillespie',\n",
       "   'runs': {'extras': 1, 'total': 1, 'batsman': 0},\n",
       "   'extras': {'wides': 1},\n",
       "   'batsman': 'DPMD Jayawardene'}},\n",
       " {26.3: {'non_striker': 'TT Samaraweera',\n",
       "   'bowler': 'SK Warne',\n",
       "   'runs': {'extras': 4, 'total': 4, 'batsman': 0},\n",
       "   'extras': {'byes': 4},\n",
       "   'batsman': 'HP Tillakaratne'}},\n",
       " {28.2: {'non_striker': 'HP Tillakaratne',\n",
       "   'bowler': 'SK Warne',\n",
       "   'runs': {'extras': 1, 'total': 1, 'batsman': 0},\n",
       "   'extras': {'noballs': 1},\n",
       "   'batsman': 'TT Samaraweera'}}]"
      ]
     },
     "metadata": {},
     "execution_count": 13
    }
   ],
   "source": [
    "[i for i in deliveries if list(i.keys())[0] in [8.6, 26.3, 28.2]]"
   ]
  },
  {
   "cell_type": "code",
   "execution_count": 14,
   "metadata": {},
   "outputs": [],
   "source": [
    "def update_aggregates(delivery_json, innings_details):\n",
    "    process_over(delivery_json, innings_details)\n",
    "    process_wicket(delivery_json, innings_details)\n",
    "    process_head_to_head(delivery_json, innings_details)\n",
    "    pass\n",
    "\n",
    "def display_score(delivery_display, innings_details):\n",
    "    return f\"{delivery_display}: {innings_details['total_score']}-{innings_details['wickets']}\"\n",
    "\n",
    "def process_over(delivery_json, innings_details):\n",
    "    # Regex on the delivery display and update the overs aggregates \n",
    "\n",
    "    # If over hasn't started create over aggregate \n",
    "    # Else update existing with details \n",
    "    pass\n",
    "\n",
    "def process_partnership():\n",
    "    # If a wicket, then end current partnerships\n",
    "    # Start new partnership\n",
    "    # Else update partnership details \n",
    "    pass\n",
    "\n",
    "def process_wicket(delivery_json, innings_details):\n",
    "    # Find batsman and add in wicket method \n",
    "    pass\n",
    "\n",
    "def process_head_to_head(bowler, batsman, runs, innings_details):\n",
    "    if bowler not in list(innings_details['h2h_bowl']):\n",
    "        innings_details['h2h_bowl'][bowler] = {batsman: {'deliveries': 1, 'total_runs': runs}}\n",
    "    else:\n",
    "        if batsman not in list(innings_details['h2h_bowl'][bowler]):\n",
    "            innings_details['h2h_bowl'][bowler][batsman] = {'deliveries': 1, 'total_runs': runs}\n",
    "        else:\n",
    "            innings_details['h2h_bowl'][bowler][batsman]['deliveries'] += 1\n",
    "            innings_details['h2h_bowl'][bowler][batsman]['total_runs'] += runs\n",
    "    pass\n",
    "\n",
    "def process_delivery(delivery_json, innings_details):\n",
    "    delivery_display = list(delivery_json)[0]\n",
    "    over = \"\"\n",
    "    ball_in_over = 0\n",
    "    delivery = delivery_json[delivery_display]\n",
    "    innings_details['total_score'] += delivery['runs']['total']\n",
    "    bowler = delivery['bowler']\n",
    "    batsman = delivery['batsman']\n",
    "    wides = 0\n",
    "    noballs = 0\n",
    "\n",
    "    process_over(delivery, innings_details)\n",
    "    process_wicket(delivery_json, innings_details)\n",
    "    process_head_to_head(bowler, batsman, delivery['runs']['batsman'], innings_details)\n",
    "\n",
    "    # Create an object that is good for doing 'last 18 balls' \n",
    "    innings_details['balls'].append(delivery['runs']['total'])\n",
    "\n",
    "    if 'wicket' in list(delivery):\n",
    "        innings_details['wickets'] += 1\n",
    "        print(display_score(delivery_display, innings_details))\n",
    "\n",
    "    if 'extras' in list(delivery):\n",
    "        extras_type = list(delivery['extras'])[0]\n",
    "        if extras_type not in list(innings_details['extras']):\n",
    "            innings_details['extras'][extras_type] = delivery['extras'][extras_type]\n",
    "        else:\n",
    "            innings_details['extras'][extras_type] += delivery['extras'][extras_type]\n",
    "\n",
    "        if extras_type == 'wides':\n",
    "            wides = delivery['extras'][extras_type]\n",
    "        \n",
    "        if extras_type == 'noballs':\n",
    "            noballs = delivery['extras'][extras_type]\n",
    "\n",
    "    runs_off_delivery = delivery['runs']['batsman']\n",
    "    if 'extras' in list(delivery):\n",
    "        if 'byes' not in list(delivery['extras']):\n",
    "            runs_off_delivery = delivery['runs']['total']\n",
    "\n",
    "    is_wicket = 1 if 'wicket' in list(delivery) else 0 \n",
    "                \n",
    "    if bowler not in list(innings_details['bowling_figures']):\n",
    "        innings_details['bowling_figures'][bowler] =  {\n",
    "                'deliveries': 1, \n",
    "                'runs': runs_off_delivery, \n",
    "                'wickets': is_wicket, \n",
    "                'wides': 0, \n",
    "                'noballs': 0\n",
    "            }\n",
    "    else:\n",
    "        innings_details['bowling_figures'][bowler]['deliveries'] += 1\n",
    "        innings_details['bowling_figures'][bowler]['runs'] += runs_off_delivery\n",
    "        innings_details['bowling_figures'][bowler]['wickets'] += is_wicket\n",
    "        innings_details['bowling_figures'][bowler]['wides'] += wides\n",
    "        innings_details['bowling_figures'][bowler]['noballs'] += noballs\n",
    "\n",
    "    pass\n",
    "    # print(innings_details['balls'][:6])\n",
    "    # return f\"{delivery_display}: {innings_details['total_score']}-{innings_details['wickets']}\""
   ]
  },
  {
   "source": [
    "### Head to head match ups\n",
    "Below is some basic logic to work out the keys required for creating head to head match ups and building on those iteratively throughout the process. "
   ],
   "cell_type": "markdown",
   "metadata": {}
  },
  {
   "cell_type": "code",
   "execution_count": 15,
   "metadata": {},
   "outputs": [
    {
     "output_type": "stream",
     "name": "stdout",
     "text": [
      "Bowl 1 Bat 1\nNew bowler: ('Bowl 1', 'Bat 1')\nBowl 1 Bat 2\nExisting bowler, new batter: ('Bowl 1', 'Bat 2')\nBowl 1 Bat 2\nExisting combination: ('Bowl 1', 'Bat 2')\nBowl 1 Bat 3\nExisting bowler, new batter: ('Bowl 1', 'Bat 3')\nBowl 2 Bat 1\nNew bowler: ('Bowl 2', 'Bat 1')\nBowl 2 Bat 2\nExisting bowler, new batter: ('Bowl 2', 'Bat 2')\nBowl 2 Bat 2\nExisting combination: ('Bowl 2', 'Bat 2')\nBowl 2 Bat 3\nExisting bowler, new batter: ('Bowl 2', 'Bat 3')\n"
     ]
    },
    {
     "output_type": "execute_result",
     "data": {
      "text/plain": [
       "{'Bat 1': {'deliveries': 1, 'total_runs': 2},\n",
       " 'Bat 2': {'deliveries': 2, 'total_runs': 6},\n",
       " 'Bat 3': {'deliveries': 1, 'total_runs': 2}}"
      ]
     },
     "metadata": {},
     "execution_count": 15
    }
   ],
   "source": [
    "head_to_head_bowl = {}\n",
    "bowlers = ['Bowl 1', 'Bowl 2']\n",
    "batsmen = ['Bat 1', 'Bat 2', 'Bat 2', 'Bat 3']\n",
    "for bowler in bowlers:\n",
    "    for batter in batsmen:\n",
    "        print(bowler, batter)\n",
    "        if bowler not in list(head_to_head_bowl):\n",
    "            print(f\"New bowler: {(bowler, batter)}\")\n",
    "            head_to_head_bowl[bowler] = {batter: {'deliveries': 1, 'total_runs': 2}}\n",
    "        else:\n",
    "            if batter not in list(head_to_head_bowl[bowler]):\n",
    "                print(f\"Existing bowler, new batter: {(bowler, batter)}\")\n",
    "                head_to_head_bowl[bowler][batter] = {'deliveries': 1, 'total_runs': 2}\n",
    "            else:\n",
    "                print(f\"Existing combination: {(bowler, batter)}\")\n",
    "                head_to_head_bowl[bowler][batter]['deliveries'] += 1\n",
    "                head_to_head_bowl[bowler][batter]['total_runs'] += 4\n",
    "\n",
    "head_to_head_bowl['Bowl 2']"
   ]
  },
  {
   "cell_type": "code",
   "execution_count": 16,
   "metadata": {
    "tags": []
   },
   "outputs": [
    {
     "output_type": "stream",
     "name": "stdout",
     "text": [
      "5.4: 14-1\n18.3: 41-2\n20.1: 49-3\n22.5: 56-4\n23.1: 56-5\n33.5: 89-6\n38.2: 119-7\n43.6: 153-8\n44.6: 153-9\n45.2: 154-10\n"
     ]
    },
    {
     "output_type": "execute_result",
     "data": {
      "text/plain": [
       "{'SK Warne': {'deliveries': 91,\n",
       "  'runs': 43,\n",
       "  'wickets': 5,\n",
       "  'wides': 0,\n",
       "  'noballs': 1},\n",
       " 'JN Gillespie': {'deliveries': 55,\n",
       "  'runs': 20,\n",
       "  'wickets': 0,\n",
       "  'wides': 1,\n",
       "  'noballs': 0},\n",
       " 'MS Kasprowicz': {'deliveries': 30,\n",
       "  'runs': 13,\n",
       "  'wickets': 1,\n",
       "  'wides': 0,\n",
       "  'noballs': 0},\n",
       " 'SCG MacGill': {'deliveries': 98,\n",
       "  'runs': 74,\n",
       "  'wickets': 4,\n",
       "  'wides': 0,\n",
       "  'noballs': 0}}"
      ]
     },
     "metadata": {},
     "execution_count": 16
    }
   ],
   "source": [
    "innings_details = {\n",
    "    'total_score': 0, \n",
    "    'wickets': 0, \n",
    "    'legal_deliveries': 0, \n",
    "    'run_rate': 0,\n",
    "    'extras': {}, \n",
    "    'partnerships': [], \n",
    "    'balls': [], \n",
    "    'overs': [], \n",
    "    'bowling_figures': {}, \n",
    "    'scorecard': {}, \n",
    "    'h2h_bowl': {}\n",
    "}\n",
    "\n",
    "# Push through the deliveries and update the innings summary\n",
    "[process_delivery(i, innings_details) for i in deliveries]\n",
    "\n",
    "# View the final innings SSIS\n",
    "innings_details['bowling_figures']"
   ]
  },
  {
   "cell_type": "code",
   "execution_count": 17,
   "metadata": {},
   "outputs": [
    {
     "output_type": "execute_result",
     "data": {
      "text/plain": [
       "            SK Warne  JN Gillespie  MS Kasprowicz  SCG MacGill\n",
       "deliveries        91            55             30           98\n",
       "runs              43            20             13           74\n",
       "wickets            5             0              1            4\n",
       "wides              0             1              0            0\n",
       "noballs            1             0              0            0"
      ],
      "text/html": "<div>\n<style scoped>\n    .dataframe tbody tr th:only-of-type {\n        vertical-align: middle;\n    }\n\n    .dataframe tbody tr th {\n        vertical-align: top;\n    }\n\n    .dataframe thead th {\n        text-align: right;\n    }\n</style>\n<table border=\"1\" class=\"dataframe\">\n  <thead>\n    <tr style=\"text-align: right;\">\n      <th></th>\n      <th>SK Warne</th>\n      <th>JN Gillespie</th>\n      <th>MS Kasprowicz</th>\n      <th>SCG MacGill</th>\n    </tr>\n  </thead>\n  <tbody>\n    <tr>\n      <th>deliveries</th>\n      <td>91</td>\n      <td>55</td>\n      <td>30</td>\n      <td>98</td>\n    </tr>\n    <tr>\n      <th>runs</th>\n      <td>43</td>\n      <td>20</td>\n      <td>13</td>\n      <td>74</td>\n    </tr>\n    <tr>\n      <th>wickets</th>\n      <td>5</td>\n      <td>0</td>\n      <td>1</td>\n      <td>4</td>\n    </tr>\n    <tr>\n      <th>wides</th>\n      <td>0</td>\n      <td>1</td>\n      <td>0</td>\n      <td>0</td>\n    </tr>\n    <tr>\n      <th>noballs</th>\n      <td>1</td>\n      <td>0</td>\n      <td>0</td>\n      <td>0</td>\n    </tr>\n  </tbody>\n</table>\n</div>"
     },
     "metadata": {},
     "execution_count": 17
    }
   ],
   "source": [
    "pd.DataFrame(innings_details['bowling_figures'])"
   ]
  }
 ]
}