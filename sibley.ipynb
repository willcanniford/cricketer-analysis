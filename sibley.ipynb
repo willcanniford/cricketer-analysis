{
 "cells": [
  {
   "cell_type": "markdown",
   "metadata": {},
   "source": [
    "# Dom Sibley\n",
    "I am going to look at Dom Sibley's current test record and explore the formatting of the batting innings list page that ESPN has.  \n",
    "\n",
    "I have already written code that loops through the matches of a given player and can find out additional details, but this summary page exists that may allow us to scrape the data quicker and more efficiently. That innings breakdown page can be found [here](https://stats.espncricinfo.com/ci/engine/player/519082.html?class=1;template=results;type=batting;view=innings). "
   ]
  },
  {
   "cell_type": "code",
   "execution_count": 1,
   "metadata": {},
   "outputs": [],
   "source": [
    "import numpy as np \n",
    "import pandas as pd \n",
    "import matplotlib.pyplot as plt\n",
    "import requests\n",
    "from bs4 import BeautifulSoup\n",
    "import re"
   ]
  },
  {
   "cell_type": "code",
   "execution_count": 2,
   "metadata": {},
   "outputs": [],
   "source": [
    "url = 'http://stats.espncricinfo.com/ci/engine/player/519082.html?class=1;template=results;type=batting;view=innings'\n",
    "sibley_soup = BeautifulSoup(requests.get(url).text, features=\"html.parser\")"
   ]
  },
  {
   "cell_type": "markdown",
   "metadata": {},
   "source": [
    "Once we have the `soup` for the page, we can pull the main table using the caption in the HTML. "
   ]
  },
  {
   "cell_type": "code",
   "execution_count": 3,
   "metadata": {},
   "outputs": [],
   "source": [
    "for caption in sibley_soup.find_all('caption'):\n",
    "    if caption.get_text() == 'Innings by innings list':\n",
    "        main_table = caption.find_parent(\n",
    "            'table', {'class': 'engineTable'})"
   ]
  },
  {
   "cell_type": "code",
   "execution_count": 4,
   "metadata": {},
   "outputs": [],
   "source": [
    "columns = [header.get_text() for header in main_table.find('thead').find_all('tr')[0].find_all('th')]\n",
    "rows = []\n",
    "\n",
    "for innings in [\n",
    "        row for row in main_table.find('tbody').find_all('tr')]:\n",
    "    rows.append([stat.get_text() for stat in innings.find_all('td')])\n",
    "    \n",
    "sibley_innings = pd.DataFrame(rows, columns=columns).apply(pd.to_numeric, errors='ignore')"
   ]
  },
  {
   "cell_type": "code",
   "execution_count": 5,
   "metadata": {},
   "outputs": [
    {
     "data": {
      "text/html": [
       "<div>\n",
       "<style scoped>\n",
       "    .dataframe tbody tr th:only-of-type {\n",
       "        vertical-align: middle;\n",
       "    }\n",
       "\n",
       "    .dataframe tbody tr th {\n",
       "        vertical-align: top;\n",
       "    }\n",
       "\n",
       "    .dataframe thead th {\n",
       "        text-align: right;\n",
       "    }\n",
       "</style>\n",
       "<table border=\"1\" class=\"dataframe\">\n",
       "  <thead>\n",
       "    <tr style=\"text-align: right;\">\n",
       "      <th></th>\n",
       "      <th>Runs</th>\n",
       "      <th>Mins</th>\n",
       "      <th>BF</th>\n",
       "      <th>4s</th>\n",
       "      <th>6s</th>\n",
       "      <th>SR</th>\n",
       "      <th>Pos</th>\n",
       "      <th>Dismissal</th>\n",
       "      <th>Inns</th>\n",
       "      <th></th>\n",
       "      <th>Opposition</th>\n",
       "      <th>Ground</th>\n",
       "      <th>Start Date</th>\n",
       "      <th></th>\n",
       "    </tr>\n",
       "  </thead>\n",
       "  <tbody>\n",
       "    <tr>\n",
       "      <th>0</th>\n",
       "      <td>22</td>\n",
       "      <td>92</td>\n",
       "      <td>63</td>\n",
       "      <td>4</td>\n",
       "      <td>0</td>\n",
       "      <td>34.92</td>\n",
       "      <td>2</td>\n",
       "      <td>caught</td>\n",
       "      <td>1</td>\n",
       "      <td>NaN</td>\n",
       "      <td>v New Zealand</td>\n",
       "      <td>Mount Maunganui</td>\n",
       "      <td>21 Nov 2019</td>\n",
       "      <td>Test # 2367</td>\n",
       "    </tr>\n",
       "    <tr>\n",
       "      <th>1</th>\n",
       "      <td>12</td>\n",
       "      <td>94</td>\n",
       "      <td>62</td>\n",
       "      <td>1</td>\n",
       "      <td>0</td>\n",
       "      <td>19.35</td>\n",
       "      <td>2</td>\n",
       "      <td>caught</td>\n",
       "      <td>3</td>\n",
       "      <td>NaN</td>\n",
       "      <td>v New Zealand</td>\n",
       "      <td>Mount Maunganui</td>\n",
       "      <td>21 Nov 2019</td>\n",
       "      <td>Test # 2367</td>\n",
       "    </tr>\n",
       "    <tr>\n",
       "      <th>2</th>\n",
       "      <td>4</td>\n",
       "      <td>30</td>\n",
       "      <td>20</td>\n",
       "      <td>0</td>\n",
       "      <td>0</td>\n",
       "      <td>20.00</td>\n",
       "      <td>2</td>\n",
       "      <td>lbw</td>\n",
       "      <td>2</td>\n",
       "      <td>NaN</td>\n",
       "      <td>v New Zealand</td>\n",
       "      <td>Hamilton</td>\n",
       "      <td>29 Nov 2019</td>\n",
       "      <td>Test # 2371</td>\n",
       "    </tr>\n",
       "    <tr>\n",
       "      <th>3</th>\n",
       "      <td>4</td>\n",
       "      <td>25</td>\n",
       "      <td>12</td>\n",
       "      <td>1</td>\n",
       "      <td>0</td>\n",
       "      <td>33.33</td>\n",
       "      <td>2</td>\n",
       "      <td>caught</td>\n",
       "      <td>2</td>\n",
       "      <td>NaN</td>\n",
       "      <td>v South Africa</td>\n",
       "      <td>Centurion</td>\n",
       "      <td>26 Dec 2019</td>\n",
       "      <td>Test # 2377</td>\n",
       "    </tr>\n",
       "    <tr>\n",
       "      <th>4</th>\n",
       "      <td>29</td>\n",
       "      <td>118</td>\n",
       "      <td>90</td>\n",
       "      <td>5</td>\n",
       "      <td>0</td>\n",
       "      <td>32.22</td>\n",
       "      <td>2</td>\n",
       "      <td>caught</td>\n",
       "      <td>4</td>\n",
       "      <td>NaN</td>\n",
       "      <td>v South Africa</td>\n",
       "      <td>Centurion</td>\n",
       "      <td>26 Dec 2019</td>\n",
       "      <td>Test # 2377</td>\n",
       "    </tr>\n",
       "    <tr>\n",
       "      <th>5</th>\n",
       "      <td>34</td>\n",
       "      <td>107</td>\n",
       "      <td>76</td>\n",
       "      <td>7</td>\n",
       "      <td>0</td>\n",
       "      <td>44.73</td>\n",
       "      <td>2</td>\n",
       "      <td>caught</td>\n",
       "      <td>1</td>\n",
       "      <td>NaN</td>\n",
       "      <td>v South Africa</td>\n",
       "      <td>Cape Town</td>\n",
       "      <td>3 Jan 2020</td>\n",
       "      <td>Test # 2379</td>\n",
       "    </tr>\n",
       "    <tr>\n",
       "      <th>6</th>\n",
       "      <td>133*</td>\n",
       "      <td>497</td>\n",
       "      <td>311</td>\n",
       "      <td>19</td>\n",
       "      <td>1</td>\n",
       "      <td>42.76</td>\n",
       "      <td>2</td>\n",
       "      <td>not out</td>\n",
       "      <td>3</td>\n",
       "      <td>NaN</td>\n",
       "      <td>v South Africa</td>\n",
       "      <td>Cape Town</td>\n",
       "      <td>3 Jan 2020</td>\n",
       "      <td>Test # 2379</td>\n",
       "    </tr>\n",
       "    <tr>\n",
       "      <th>7</th>\n",
       "      <td>36</td>\n",
       "      <td>135</td>\n",
       "      <td>95</td>\n",
       "      <td>5</td>\n",
       "      <td>0</td>\n",
       "      <td>37.89</td>\n",
       "      <td>2</td>\n",
       "      <td>caught</td>\n",
       "      <td>1</td>\n",
       "      <td>NaN</td>\n",
       "      <td>v South Africa</td>\n",
       "      <td>Port Elizabeth</td>\n",
       "      <td>16 Jan 2020</td>\n",
       "      <td>Test # 2380</td>\n",
       "    </tr>\n",
       "    <tr>\n",
       "      <th>8</th>\n",
       "      <td>44</td>\n",
       "      <td>153</td>\n",
       "      <td>93</td>\n",
       "      <td>7</td>\n",
       "      <td>0</td>\n",
       "      <td>47.31</td>\n",
       "      <td>2</td>\n",
       "      <td>caught</td>\n",
       "      <td>1</td>\n",
       "      <td>NaN</td>\n",
       "      <td>v South Africa</td>\n",
       "      <td>Johannesburg</td>\n",
       "      <td>24 Jan 2020</td>\n",
       "      <td>Test # 2382</td>\n",
       "    </tr>\n",
       "    <tr>\n",
       "      <th>9</th>\n",
       "      <td>44</td>\n",
       "      <td>157</td>\n",
       "      <td>107</td>\n",
       "      <td>7</td>\n",
       "      <td>0</td>\n",
       "      <td>41.12</td>\n",
       "      <td>2</td>\n",
       "      <td>caught</td>\n",
       "      <td>3</td>\n",
       "      <td>NaN</td>\n",
       "      <td>v South Africa</td>\n",
       "      <td>Johannesburg</td>\n",
       "      <td>24 Jan 2020</td>\n",
       "      <td>Test # 2382</td>\n",
       "    </tr>\n",
       "  </tbody>\n",
       "</table>\n",
       "</div>"
      ],
      "text/plain": [
       "   Runs  Mins   BF  4s  6s     SR  Pos Dismissal  Inns          Opposition  \\\n",
       "0    22    92   63   4   0  34.92    2    caught     1 NaN   v New Zealand   \n",
       "1    12    94   62   1   0  19.35    2    caught     3 NaN   v New Zealand   \n",
       "2     4    30   20   0   0  20.00    2       lbw     2 NaN   v New Zealand   \n",
       "3     4    25   12   1   0  33.33    2    caught     2 NaN  v South Africa   \n",
       "4    29   118   90   5   0  32.22    2    caught     4 NaN  v South Africa   \n",
       "5    34   107   76   7   0  44.73    2    caught     1 NaN  v South Africa   \n",
       "6  133*   497  311  19   1  42.76    2   not out     3 NaN  v South Africa   \n",
       "7    36   135   95   5   0  37.89    2    caught     1 NaN  v South Africa   \n",
       "8    44   153   93   7   0  47.31    2    caught     1 NaN  v South Africa   \n",
       "9    44   157  107   7   0  41.12    2    caught     3 NaN  v South Africa   \n",
       "\n",
       "            Ground   Start Date               \n",
       "0  Mount Maunganui  21 Nov 2019  Test # 2367  \n",
       "1  Mount Maunganui  21 Nov 2019  Test # 2367  \n",
       "2         Hamilton  29 Nov 2019  Test # 2371  \n",
       "3        Centurion  26 Dec 2019  Test # 2377  \n",
       "4        Centurion  26 Dec 2019  Test # 2377  \n",
       "5        Cape Town   3 Jan 2020  Test # 2379  \n",
       "6        Cape Town   3 Jan 2020  Test # 2379  \n",
       "7   Port Elizabeth  16 Jan 2020  Test # 2380  \n",
       "8     Johannesburg  24 Jan 2020  Test # 2382  \n",
       "9     Johannesburg  24 Jan 2020  Test # 2382  "
      ]
     },
     "execution_count": 5,
     "metadata": {},
     "output_type": "execute_result"
    }
   ],
   "source": [
    "sibley_innings"
   ]
  },
  {
   "cell_type": "markdown",
   "metadata": {},
   "source": [
    "Let's just focus on the balls faced by the young opener. His determination to survive at the crease and act as a barrier to those lower down the order has been noted as one of his strengths. "
   ]
  },
  {
   "cell_type": "code",
   "execution_count": 6,
   "metadata": {},
   "outputs": [
    {
     "name": "stdout",
     "output_type": "stream",
     "text": [
      "929\n",
      "92.9\n"
     ]
    }
   ],
   "source": [
    "total_balls_faced = sibley_innings.BF.sum()\n",
    "average_innings_balls_faced = sibley_innings.BF.mean()\n",
    "\n",
    "print(total_balls_faced)\n",
    "print(average_innings_balls_faced)"
   ]
  },
  {
   "cell_type": "markdown",
   "metadata": {},
   "source": [
    "We can see he has opened the batting for England 10 times, and has already faced 929 balls. This is something that seems impressive, and Sibley has a reputation for facing a lot of balls in county championship cricket as well. "
   ]
  },
  {
   "cell_type": "code",
   "execution_count": 7,
   "metadata": {},
   "outputs": [
    {
     "data": {
      "image/png": "[encoded data removed]",
      "text/plain": [
       "<Figure size 432x288 with 1 Axes>"
      ]
     },
     "metadata": {
      "needs_background": "light"
     },
     "output_type": "display_data"
    }
   ],
   "source": [
    "sibley_innings.BF.hist(bins=100)\n",
    "plt.show()"
   ]
  },
  {
   "cell_type": "markdown",
   "metadata": {},
   "source": [
    "It is interesting with the consistency that he appears to get past 50 balls faced, giving the other players in the team a chance to come in when the opposition bowlers already having bowled many overs; providing protection to the middle order. \n",
    "\n",
    "Let's compare this to Keaton Jennings, who struggled with against pace at the highest level, but remains a brilliant player of spin; even opening the debate about picking him for a sub continent tour. "
   ]
  },
  {
   "cell_type": "code",
   "execution_count": 8,
   "metadata": {},
   "outputs": [],
   "source": [
    "jennings = 'http://stats.espncricinfo.com/ci/engine/player/440780.html?class=1;template=results;type=batting;view=innings'\n",
    "jennings_soup = BeautifulSoup(requests.get(jennings).text, features=\"html.parser\")"
   ]
  },
  {
   "cell_type": "code",
   "execution_count": 9,
   "metadata": {},
   "outputs": [],
   "source": [
    "for caption in jennings_soup.find_all('caption'):\n",
    "    if caption.get_text() == 'Innings by innings list':\n",
    "        jen_table = caption.find_parent(\n",
    "            'table', {'class': 'engineTable'})"
   ]
  },
  {
   "cell_type": "code",
   "execution_count": 10,
   "metadata": {},
   "outputs": [],
   "source": [
    "columns = [header.get_text() for header in jen_table.find('thead').find_all('tr')[0].find_all('th')]\n",
    "rows = []\n",
    "\n",
    "for innings in [\n",
    "        row for row in jen_table.find('tbody').find_all('tr')]:\n",
    "    rows.append([stat.get_text() for stat in innings.find_all('td')])\n",
    "    \n",
    "jenning_innings = pd.DataFrame(rows, columns=columns).apply(pd.to_numeric, errors='ignore')"
   ]
  },
  {
   "cell_type": "code",
   "execution_count": 11,
   "metadata": {},
   "outputs": [
    {
     "data": {
      "text/plain": [
       "1838"
      ]
     },
     "execution_count": 11,
     "metadata": {},
     "output_type": "execute_result"
    }
   ],
   "source": [
    "jenning_innings.BF.sum()"
   ]
  },
  {
   "cell_type": "code",
   "execution_count": 12,
   "metadata": {},
   "outputs": [
    {
     "data": {
      "text/plain": [
       "57.4375"
      ]
     },
     "execution_count": 12,
     "metadata": {},
     "output_type": "execute_result"
    }
   ],
   "source": [
    "jenning_innings.BF.mean()"
   ]
  },
  {
   "cell_type": "code",
   "execution_count": 13,
   "metadata": {},
   "outputs": [
    {
     "data": {
      "image/png": "[encoded data removed]",
      "text/plain": [
       "<Figure size 432x288 with 1 Axes>"
      ]
     },
     "metadata": {
      "needs_background": "light"
     },
     "output_type": "display_data"
    }
   ],
   "source": [
    "jenning_innings.BF.hist(bins=100)\n",
    "plt.show()"
   ]
  },
  {
   "cell_type": "markdown",
   "metadata": {},
   "source": [
    "Jennings on the other handle often caused pressure on the middle order by departing early in an innings. \n",
    "\n",
    "Perhaps England's greatest ever opener, Cook remains the standard to which openers are compared and the spot in the team that we're struggling to replace. "
   ]
  },
  {
   "cell_type": "code",
   "execution_count": 14,
   "metadata": {},
   "outputs": [],
   "source": [
    "cook = 'http://stats.espncricinfo.com/ci/engine/player/11728.html?class=1;template=results;type=batting;view=innings'\n",
    "cook_soup = BeautifulSoup(requests.get(cook).text, features=\"html.parser\")"
   ]
  },
  {
   "cell_type": "code",
   "execution_count": 15,
   "metadata": {},
   "outputs": [],
   "source": [
    "for caption in cook_soup.find_all('caption'):\n",
    "    if caption.get_text() == 'Innings by innings list':\n",
    "        cook_table = caption.find_parent(\n",
    "            'table', {'class': 'engineTable'})"
   ]
  },
  {
   "cell_type": "code",
   "execution_count": 16,
   "metadata": {},
   "outputs": [],
   "source": [
    "columns = [header.get_text() for header in cook_table.find('thead').find_all('tr')[0].find_all('th')]\n",
    "rows = []\n",
    "\n",
    "for innings in [row for row in cook_table.find('tbody').find_all('tr')]:\n",
    "    rows.append([stat.get_text() for stat in innings.find_all('td')])\n",
    "    \n",
    "cook_innings = pd.DataFrame([x for x in rows if x[0] != 'DNB'], columns=columns).apply(pd.to_numeric, errors='ignore')"
   ]
  },
  {
   "cell_type": "code",
   "execution_count": 17,
   "metadata": {},
   "outputs": [
    {
     "data": {
      "text/plain": [
       "26562"
      ]
     },
     "execution_count": 17,
     "metadata": {},
     "output_type": "execute_result"
    }
   ],
   "source": [
    "cook_innings.BF.sum()"
   ]
  },
  {
   "cell_type": "code",
   "execution_count": 18,
   "metadata": {},
   "outputs": [
    {
     "data": {
      "text/plain": [
       "91.27835051546391"
      ]
     },
     "execution_count": 18,
     "metadata": {},
     "output_type": "execute_result"
    }
   ],
   "source": [
    "cook_innings.BF.mean()"
   ]
  },
  {
   "cell_type": "markdown",
   "metadata": {},
   "source": [
    "Everyone knows that Cook was one of England's greatest openers, if not __the__ greatest, and his average of 91 balls per innings is very impressive, and provided England a solidity throughout his reign. "
   ]
  },
  {
   "cell_type": "code",
   "execution_count": 19,
   "metadata": {},
   "outputs": [
    {
     "data": {
      "image/png": "[encoded data removed]",
      "text/plain": [
       "<Figure size 432x288 with 1 Axes>"
      ]
     },
     "metadata": {
      "needs_background": "light"
     },
     "output_type": "display_data"
    }
   ],
   "source": [
    "cook_innings.BF.hist(bins = 100)\n",
    "plt.show()"
   ]
  },
  {
   "cell_type": "markdown",
   "metadata": {},
   "source": [
    "## Comparison between the first `n` test innings"
   ]
  },
  {
   "cell_type": "code",
   "execution_count": 20,
   "metadata": {},
   "outputs": [],
   "source": [
    "n_innings = 10 \n",
    "\n",
    "jennings_n_innings = jenning_innings.iloc[:n_innings]\n",
    "cook_n_innings = cook_innings.iloc[:n_innings]\n",
    "sib_n_innings = sibley_innings.iloc[:n_innings]\n",
    "\n",
    "jennings_col = '#706fd3'\n",
    "cook_col = '#ff793f'\n",
    "sib_col = '#27ae60'"
   ]
  },
  {
   "cell_type": "code",
   "execution_count": 21,
   "metadata": {},
   "outputs": [
    {
     "data": {
      "image/png": "[encoded data removed]",
      "text/plain": [
       "<Figure size 720x360 with 1 Axes>"
      ]
     },
     "metadata": {
      "needs_background": "light"
     },
     "output_type": "display_data"
    }
   ],
   "source": [
    "fig, ax = plt.subplots(figsize=(10,5))\n",
    "\n",
    "jennings_cumsum = jennings_n_innings.BF.cumsum().rename('Jennings')\n",
    "cook_cumsum = cook_n_innings.BF.cumsum().rename('Cook')\n",
    "sib_cumsum = sib_n_innings.BF.cumsum().rename('Sibley')\n",
    "\n",
    "plt.plot(jennings_cumsum, label='Jennings', c=jennings_col)\n",
    "plt.plot(cook_cumsum, label='Cook', c=cook_col)\n",
    "plt.plot(sib_cumsum, label='Sibley', c=sib_col)\n",
    "plt.xticks(sib_cumsum.index, sib_cumsum.index + 1)\n",
    "plt.xlabel('Test Innings')\n",
    "plt.ylabel('Total Balls Faced in Test Cricket')\n",
    "plt.legend()\n",
    "plt.show()"
   ]
  },
  {
   "cell_type": "markdown",
   "metadata": {},
   "source": [
    "We can compare the early career of these 3 openers, and we see that Cook is firmly ahead. Jennings is held up by a first innings century, playing in his favoured spinning conditions.  \n",
    "\n",
    "When we do the cumulative mean, then we can see Jennings difficulties more clearly. "
   ]
  },
  {
   "cell_type": "code",
   "execution_count": 22,
   "metadata": {},
   "outputs": [
    {
     "data": {
      "image/png": "[encoded data removed]",
      "text/plain": [
       "<Figure size 720x360 with 1 Axes>"
      ]
     },
     "metadata": {
      "needs_background": "light"
     },
     "output_type": "display_data"
    }
   ],
   "source": [
    "fig, ax = plt.subplots(figsize=(10,5))\n",
    "\n",
    "plt.plot(jennings_n_innings.BF.cumsum() / (np.arange(len(jennings_n_innings)) + 1), \n",
    "         label='Jennings', \n",
    "         c=jennings_col)\n",
    "plt.plot(cook_n_innings.BF.cumsum() / (np.arange(len(cook_n_innings)) + 1), \n",
    "         label='Cook', \n",
    "         c=cook_col)\n",
    "plt.plot(sib_n_innings.BF.cumsum() / (np.arange(len(sib_n_innings)) + 1), \n",
    "         label='Sibley', \n",
    "         c=sib_col)\n",
    "\n",
    "plt.xticks(sib_cumsum.index, sib_cumsum.index + 1)\n",
    "plt.xlabel('Test Innings')\n",
    "plt.ylabel('Average Balls Faced in Test Cricket')\n",
    "plt.legend()\n",
    "plt.show()"
   ]
  }
 ],
 "metadata": {
  "kernelspec": {
   "display_name": "Python 3",
   "language": "python",
   "name": "python3"
  },
  "language_info": {
   "codemirror_mode": {
    "name": "ipython",
    "version": 3
   },
   "file_extension": ".py",
   "mimetype": "text/x-python",
   "name": "python",
   "nbconvert_exporter": "python",
   "pygments_lexer": "ipython3",
   "version": "3.7.6"
  }
 },
 "nbformat": 4,
 "nbformat_minor": 4
}
